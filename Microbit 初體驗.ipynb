{
 "cells": [
  {
   "cell_type": "markdown",
   "metadata": {},
   "source": [
    "# Micro:bit 初體驗\n",
    "\n",
    "[這邊是quick start教學](https://microbit.org/zh-CN/guide/quick/)\n"
   ]
  },
  {
   "cell_type": "markdown",
   "metadata": {},
   "source": [
    "## 心跳demo\n",
    "\n",
    "- 點[編程畫面的連結](https://makecode.microbit.org/)，會進到積木/Javascript語言的頁面\n",
    "![img](image/01_snap01.png)\n",
    "\n",
    "- 這個邏輯和Arduino有點像：有二個基本元素(積木)\n",
    "    - 「當啟動時」：剛上電時要執行一次的，用來做初始化的事情\n",
    "    - 「重複無限次」：剛上電的事做完了，就會進到這邊來一直重複跑的程式\n",
    "    \n",
    "- 我那個畫面是已經拉好需要的積木了，你要動手作也很簡單：\n",
    "    - 只要點「基本/顯示圖示」就會跑一塊積木出來，然後再選你要的圖就可以了\n",
    "    ![img](image/01_snap02.png)\n",
    "    - 選好圖後，拉動積木到「動複無限次」的積木上，就會黏上去\n",
    "    - 再選「基本/暫停」積木，改時間為500ms，再拉過去黏上\n",
    "    - 再重複做上次的事二次，就完成基本demo了\n",
    "- 點「下載」鈕，會下載一個.hex的檔案。把Micro:bit接到你的電腦上，會產生一個磁碟，把這個.hex檔接進磁碟，複製完就代表完成燒錄了! 這時你可以看看你的Micro:bit是不是有心跳的圖產生\n",
    "\n"
   ]
  }
 ],
 "metadata": {
  "kernelspec": {
   "display_name": "Python 3",
   "language": "python",
   "name": "python3"
  },
  "language_info": {
   "codemirror_mode": {
    "name": "ipython",
    "version": 3
   },
   "file_extension": ".py",
   "mimetype": "text/x-python",
   "name": "python",
   "nbconvert_exporter": "python",
   "pygments_lexer": "ipython3",
   "version": "3.7.0"
  }
 },
 "nbformat": 4,
 "nbformat_minor": 2
}
